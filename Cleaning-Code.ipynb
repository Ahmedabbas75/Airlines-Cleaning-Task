{
 "cells": [
  {
   "cell_type": "markdown",
   "id": "784782ad",
   "metadata": {},
   "source": [
    "###  Loading Data & Libraries"
   ]
  },
  {
   "cell_type": "code",
   "execution_count": 162,
   "id": "f3c7d03c",
   "metadata": {},
   "outputs": [],
   "source": [
    "import pandas as pd\n",
    "import numpy as np"
   ]
  },
  {
   "cell_type": "code",
   "execution_count": 163,
   "id": "7a27e0b2",
   "metadata": {},
   "outputs": [],
   "source": [
    "data = pd.read_csv(\"airlines.csv\")"
   ]
  },
  {
   "cell_type": "markdown",
   "id": "9efa764e",
   "metadata": {},
   "source": [
    "### Show Sample Of Data"
   ]
  },
  {
   "cell_type": "code",
   "execution_count": 164,
   "id": "a695052b",
   "metadata": {},
   "outputs": [
    {
     "data": {
      "text/html": [
       "<div>\n",
       "<style scoped>\n",
       "    .dataframe tbody tr th:only-of-type {\n",
       "        vertical-align: middle;\n",
       "    }\n",
       "\n",
       "    .dataframe tbody tr th {\n",
       "        vertical-align: top;\n",
       "    }\n",
       "\n",
       "    .dataframe thead th {\n",
       "        text-align: right;\n",
       "    }\n",
       "</style>\n",
       "<table border=\"1\" class=\"dataframe\">\n",
       "  <thead>\n",
       "    <tr style=\"text-align: right;\">\n",
       "      <th></th>\n",
       "      <th>Unnamed: 0</th>\n",
       "      <th>id</th>\n",
       "      <th>day</th>\n",
       "      <th>airline</th>\n",
       "      <th>destination</th>\n",
       "      <th>dest_region</th>\n",
       "      <th>dest_size</th>\n",
       "      <th>boarding_area</th>\n",
       "      <th>dept_time</th>\n",
       "      <th>wait_min</th>\n",
       "      <th>cleanliness</th>\n",
       "      <th>safety</th>\n",
       "      <th>satisfaction</th>\n",
       "    </tr>\n",
       "  </thead>\n",
       "  <tbody>\n",
       "    <tr>\n",
       "      <th>0</th>\n",
       "      <td>0</td>\n",
       "      <td>1351</td>\n",
       "      <td>Tuesday</td>\n",
       "      <td>UNITED INTL</td>\n",
       "      <td>KANSAI</td>\n",
       "      <td>Asia</td>\n",
       "      <td>Hub</td>\n",
       "      <td>Gates 91-102</td>\n",
       "      <td>2018-12-31</td>\n",
       "      <td>115.0</td>\n",
       "      <td>Clean</td>\n",
       "      <td>Neutral</td>\n",
       "      <td>Very satisfied</td>\n",
       "    </tr>\n",
       "    <tr>\n",
       "      <th>1</th>\n",
       "      <td>1</td>\n",
       "      <td>373</td>\n",
       "      <td>Friday</td>\n",
       "      <td>ALASKA</td>\n",
       "      <td>SAN JOSE DEL CABO</td>\n",
       "      <td>Canada/Mexico</td>\n",
       "      <td>Small</td>\n",
       "      <td>Gates 50-59</td>\n",
       "      <td>2018-12-31</td>\n",
       "      <td>135.0</td>\n",
       "      <td>Clean</td>\n",
       "      <td>Very safe</td>\n",
       "      <td>Very satisfied</td>\n",
       "    </tr>\n",
       "    <tr>\n",
       "      <th>2</th>\n",
       "      <td>2</td>\n",
       "      <td>2820</td>\n",
       "      <td>Thursday</td>\n",
       "      <td>DELTA</td>\n",
       "      <td>LOS ANGELES</td>\n",
       "      <td>West US</td>\n",
       "      <td>Hub</td>\n",
       "      <td>Gates 40-48</td>\n",
       "      <td>2018-12-31</td>\n",
       "      <td>70.0</td>\n",
       "      <td>Average</td>\n",
       "      <td>Somewhat safe</td>\n",
       "      <td>Neutral</td>\n",
       "    </tr>\n",
       "    <tr>\n",
       "      <th>3</th>\n",
       "      <td>3</td>\n",
       "      <td>1157</td>\n",
       "      <td>Tuesday</td>\n",
       "      <td>SOUTHWEST</td>\n",
       "      <td>LOS ANGELES</td>\n",
       "      <td>West US</td>\n",
       "      <td>Hub</td>\n",
       "      <td>Gates 20-39</td>\n",
       "      <td>2018-12-31</td>\n",
       "      <td>190.0</td>\n",
       "      <td>Clean</td>\n",
       "      <td>Very safe</td>\n",
       "      <td>Somewhat satsified</td>\n",
       "    </tr>\n",
       "    <tr>\n",
       "      <th>4</th>\n",
       "      <td>4</td>\n",
       "      <td>2992</td>\n",
       "      <td>Wednesday</td>\n",
       "      <td>AMERICAN</td>\n",
       "      <td>MIAMI</td>\n",
       "      <td>East US</td>\n",
       "      <td>Hub</td>\n",
       "      <td>Gates 50-59</td>\n",
       "      <td>2018-12-31</td>\n",
       "      <td>559.0</td>\n",
       "      <td>Somewhat clean</td>\n",
       "      <td>Very safe</td>\n",
       "      <td>Somewhat satsified</td>\n",
       "    </tr>\n",
       "  </tbody>\n",
       "</table>\n",
       "</div>"
      ],
      "text/plain": [
       "   Unnamed: 0    id        day      airline        destination    dest_region  \\\n",
       "0           0  1351    Tuesday  UNITED INTL             KANSAI           Asia   \n",
       "1           1   373     Friday       ALASKA  SAN JOSE DEL CABO  Canada/Mexico   \n",
       "2           2  2820   Thursday        DELTA        LOS ANGELES        West US   \n",
       "3           3  1157    Tuesday    SOUTHWEST        LOS ANGELES        West US   \n",
       "4           4  2992  Wednesday     AMERICAN              MIAMI        East US   \n",
       "\n",
       "  dest_size boarding_area   dept_time  wait_min     cleanliness  \\\n",
       "0       Hub  Gates 91-102  2018-12-31     115.0           Clean   \n",
       "1     Small   Gates 50-59  2018-12-31     135.0           Clean   \n",
       "2       Hub   Gates 40-48  2018-12-31      70.0         Average   \n",
       "3       Hub   Gates 20-39  2018-12-31     190.0           Clean   \n",
       "4       Hub   Gates 50-59  2018-12-31     559.0  Somewhat clean   \n",
       "\n",
       "          safety        satisfaction  \n",
       "0        Neutral      Very satisfied  \n",
       "1      Very safe      Very satisfied  \n",
       "2  Somewhat safe             Neutral  \n",
       "3      Very safe  Somewhat satsified  \n",
       "4      Very safe  Somewhat satsified  "
      ]
     },
     "execution_count": 164,
     "metadata": {},
     "output_type": "execute_result"
    }
   ],
   "source": [
    "data.head()"
   ]
  },
  {
   "cell_type": "code",
   "execution_count": 165,
   "id": "db425ce5",
   "metadata": {},
   "outputs": [
    {
     "data": {
      "text/html": [
       "<div>\n",
       "<style scoped>\n",
       "    .dataframe tbody tr th:only-of-type {\n",
       "        vertical-align: middle;\n",
       "    }\n",
       "\n",
       "    .dataframe tbody tr th {\n",
       "        vertical-align: top;\n",
       "    }\n",
       "\n",
       "    .dataframe thead th {\n",
       "        text-align: right;\n",
       "    }\n",
       "</style>\n",
       "<table border=\"1\" class=\"dataframe\">\n",
       "  <thead>\n",
       "    <tr style=\"text-align: right;\">\n",
       "      <th></th>\n",
       "      <th>Unnamed: 0</th>\n",
       "      <th>id</th>\n",
       "      <th>day</th>\n",
       "      <th>airline</th>\n",
       "      <th>destination</th>\n",
       "      <th>dest_region</th>\n",
       "      <th>dest_size</th>\n",
       "      <th>boarding_area</th>\n",
       "      <th>dept_time</th>\n",
       "      <th>wait_min</th>\n",
       "      <th>cleanliness</th>\n",
       "      <th>safety</th>\n",
       "      <th>satisfaction</th>\n",
       "    </tr>\n",
       "  </thead>\n",
       "  <tbody>\n",
       "    <tr>\n",
       "      <th>2472</th>\n",
       "      <td>2804</td>\n",
       "      <td>1475</td>\n",
       "      <td>Tuesday</td>\n",
       "      <td>ALASKA</td>\n",
       "      <td>NEW YORK-JFK</td>\n",
       "      <td>East US</td>\n",
       "      <td>Hub</td>\n",
       "      <td>Gates 50-59</td>\n",
       "      <td>2018-12-31</td>\n",
       "      <td>280.0</td>\n",
       "      <td>Somewhat clean</td>\n",
       "      <td>Neutral</td>\n",
       "      <td>Somewhat satsified</td>\n",
       "    </tr>\n",
       "    <tr>\n",
       "      <th>2473</th>\n",
       "      <td>2805</td>\n",
       "      <td>2222</td>\n",
       "      <td>Thursday</td>\n",
       "      <td>SOUTHWEST</td>\n",
       "      <td>PHOENIX</td>\n",
       "      <td>West US</td>\n",
       "      <td>Hub</td>\n",
       "      <td>Gates 20-39</td>\n",
       "      <td>2018-12-31</td>\n",
       "      <td>165.0</td>\n",
       "      <td>Clean</td>\n",
       "      <td>Very safe</td>\n",
       "      <td>Very satisfied</td>\n",
       "    </tr>\n",
       "    <tr>\n",
       "      <th>2474</th>\n",
       "      <td>2806</td>\n",
       "      <td>2684</td>\n",
       "      <td>Friday</td>\n",
       "      <td>UNITED</td>\n",
       "      <td>ORLANDO</td>\n",
       "      <td>East US</td>\n",
       "      <td>Hub</td>\n",
       "      <td>Gates 70-90</td>\n",
       "      <td>2018-12-31</td>\n",
       "      <td>92.0</td>\n",
       "      <td>Clean</td>\n",
       "      <td>Very safe</td>\n",
       "      <td>Very satisfied</td>\n",
       "    </tr>\n",
       "    <tr>\n",
       "      <th>2475</th>\n",
       "      <td>2807</td>\n",
       "      <td>2549</td>\n",
       "      <td>Tuesday</td>\n",
       "      <td>JETBLUE</td>\n",
       "      <td>LONG BEACH</td>\n",
       "      <td>West US</td>\n",
       "      <td>Small</td>\n",
       "      <td>Gates 1-12</td>\n",
       "      <td>2018-12-31</td>\n",
       "      <td>95.0</td>\n",
       "      <td>Clean</td>\n",
       "      <td>Somewhat safe</td>\n",
       "      <td>Very satisfied</td>\n",
       "    </tr>\n",
       "    <tr>\n",
       "      <th>2476</th>\n",
       "      <td>2808</td>\n",
       "      <td>2162</td>\n",
       "      <td>Saturday</td>\n",
       "      <td>CHINA EASTERN</td>\n",
       "      <td>QINGDAO</td>\n",
       "      <td>Asia</td>\n",
       "      <td>Large</td>\n",
       "      <td>Gates 1-12</td>\n",
       "      <td>2018-12-31</td>\n",
       "      <td>220.0</td>\n",
       "      <td>Clean</td>\n",
       "      <td>Very safe</td>\n",
       "      <td>Somewhat satsified</td>\n",
       "    </tr>\n",
       "  </tbody>\n",
       "</table>\n",
       "</div>"
      ],
      "text/plain": [
       "      Unnamed: 0    id       day        airline   destination dest_region  \\\n",
       "2472        2804  1475   Tuesday         ALASKA  NEW YORK-JFK     East US   \n",
       "2473        2805  2222  Thursday      SOUTHWEST       PHOENIX     West US   \n",
       "2474        2806  2684    Friday         UNITED       ORLANDO     East US   \n",
       "2475        2807  2549   Tuesday        JETBLUE    LONG BEACH     West US   \n",
       "2476        2808  2162  Saturday  CHINA EASTERN       QINGDAO        Asia   \n",
       "\n",
       "     dest_size boarding_area   dept_time  wait_min     cleanliness  \\\n",
       "2472       Hub   Gates 50-59  2018-12-31     280.0  Somewhat clean   \n",
       "2473       Hub   Gates 20-39  2018-12-31     165.0           Clean   \n",
       "2474       Hub   Gates 70-90  2018-12-31      92.0           Clean   \n",
       "2475     Small    Gates 1-12  2018-12-31      95.0           Clean   \n",
       "2476     Large    Gates 1-12  2018-12-31     220.0           Clean   \n",
       "\n",
       "             safety        satisfaction  \n",
       "2472        Neutral  Somewhat satsified  \n",
       "2473      Very safe      Very satisfied  \n",
       "2474      Very safe      Very satisfied  \n",
       "2475  Somewhat safe      Very satisfied  \n",
       "2476      Very safe  Somewhat satsified  "
      ]
     },
     "execution_count": 165,
     "metadata": {},
     "output_type": "execute_result"
    }
   ],
   "source": [
    "data.tail()"
   ]
  },
  {
   "cell_type": "code",
   "execution_count": 166,
   "id": "e53587c9",
   "metadata": {},
   "outputs": [
    {
     "data": {
      "text/plain": [
       "(2477, 13)"
      ]
     },
     "execution_count": 166,
     "metadata": {},
     "output_type": "execute_result"
    }
   ],
   "source": [
    "data.shape"
   ]
  },
  {
   "cell_type": "markdown",
   "id": "21ba4cc2",
   "metadata": {},
   "source": [
    "### Show More Info "
   ]
  },
  {
   "cell_type": "code",
   "execution_count": 167,
   "id": "83908fa3",
   "metadata": {},
   "outputs": [
    {
     "name": "stdout",
     "output_type": "stream",
     "text": [
      "<class 'pandas.core.frame.DataFrame'>\n",
      "RangeIndex: 2477 entries, 0 to 2476\n",
      "Data columns (total 13 columns):\n",
      " #   Column         Non-Null Count  Dtype  \n",
      "---  ------         --------------  -----  \n",
      " 0   Unnamed: 0     2477 non-null   int64  \n",
      " 1   id             2477 non-null   int64  \n",
      " 2   day            2477 non-null   object \n",
      " 3   airline        2477 non-null   object \n",
      " 4   destination    2477 non-null   object \n",
      " 5   dest_region    2477 non-null   object \n",
      " 6   dest_size      2477 non-null   object \n",
      " 7   boarding_area  2477 non-null   object \n",
      " 8   dept_time      2477 non-null   object \n",
      " 9   wait_min       2477 non-null   float64\n",
      " 10  cleanliness    2477 non-null   object \n",
      " 11  safety         2477 non-null   object \n",
      " 12  satisfaction   2477 non-null   object \n",
      "dtypes: float64(1), int64(2), object(10)\n",
      "memory usage: 251.7+ KB\n"
     ]
    }
   ],
   "source": [
    "data.info()"
   ]
  },
  {
   "cell_type": "code",
   "execution_count": 168,
   "id": "d68fc444",
   "metadata": {},
   "outputs": [
    {
     "data": {
      "text/html": [
       "<div>\n",
       "<style scoped>\n",
       "    .dataframe tbody tr th:only-of-type {\n",
       "        vertical-align: middle;\n",
       "    }\n",
       "\n",
       "    .dataframe tbody tr th {\n",
       "        vertical-align: top;\n",
       "    }\n",
       "\n",
       "    .dataframe thead th {\n",
       "        text-align: right;\n",
       "    }\n",
       "</style>\n",
       "<table border=\"1\" class=\"dataframe\">\n",
       "  <thead>\n",
       "    <tr style=\"text-align: right;\">\n",
       "      <th></th>\n",
       "      <th>Unnamed: 0</th>\n",
       "      <th>id</th>\n",
       "      <th>wait_min</th>\n",
       "    </tr>\n",
       "  </thead>\n",
       "  <tbody>\n",
       "    <tr>\n",
       "      <th>count</th>\n",
       "      <td>2477.000000</td>\n",
       "      <td>2477.000000</td>\n",
       "      <td>2477.000000</td>\n",
       "    </tr>\n",
       "    <tr>\n",
       "      <th>mean</th>\n",
       "      <td>1411.785224</td>\n",
       "      <td>1813.363746</td>\n",
       "      <td>166.084376</td>\n",
       "    </tr>\n",
       "    <tr>\n",
       "      <th>std</th>\n",
       "      <td>815.300508</td>\n",
       "      <td>945.226305</td>\n",
       "      <td>107.643625</td>\n",
       "    </tr>\n",
       "    <tr>\n",
       "      <th>min</th>\n",
       "      <td>0.000000</td>\n",
       "      <td>1.000000</td>\n",
       "      <td>15.000000</td>\n",
       "    </tr>\n",
       "    <tr>\n",
       "      <th>25%</th>\n",
       "      <td>709.000000</td>\n",
       "      <td>1038.000000</td>\n",
       "      <td>105.000000</td>\n",
       "    </tr>\n",
       "    <tr>\n",
       "      <th>50%</th>\n",
       "      <td>1414.000000</td>\n",
       "      <td>1859.000000</td>\n",
       "      <td>145.000000</td>\n",
       "    </tr>\n",
       "    <tr>\n",
       "      <th>75%</th>\n",
       "      <td>2122.000000</td>\n",
       "      <td>2581.000000</td>\n",
       "      <td>185.000000</td>\n",
       "    </tr>\n",
       "    <tr>\n",
       "      <th>max</th>\n",
       "      <td>2808.000000</td>\n",
       "      <td>9004.000000</td>\n",
       "      <td>1365.000000</td>\n",
       "    </tr>\n",
       "  </tbody>\n",
       "</table>\n",
       "</div>"
      ],
      "text/plain": [
       "        Unnamed: 0           id     wait_min\n",
       "count  2477.000000  2477.000000  2477.000000\n",
       "mean   1411.785224  1813.363746   166.084376\n",
       "std     815.300508   945.226305   107.643625\n",
       "min       0.000000     1.000000    15.000000\n",
       "25%     709.000000  1038.000000   105.000000\n",
       "50%    1414.000000  1859.000000   145.000000\n",
       "75%    2122.000000  2581.000000   185.000000\n",
       "max    2808.000000  9004.000000  1365.000000"
      ]
     },
     "execution_count": 168,
     "metadata": {},
     "output_type": "execute_result"
    }
   ],
   "source": [
    "data.describe()"
   ]
  },
  {
   "cell_type": "code",
   "execution_count": 169,
   "id": "e1636b3d",
   "metadata": {},
   "outputs": [
    {
     "data": {
      "text/plain": [
       "False"
      ]
     },
     "execution_count": 169,
     "metadata": {},
     "output_type": "execute_result"
    }
   ],
   "source": [
    "data.duplicated().any()"
   ]
  },
  {
   "cell_type": "markdown",
   "id": "937caf36",
   "metadata": {},
   "source": [
    "### Above cells' conclusion\n",
    "\n",
    "- Columns need some modifications\n",
    "- Dataset has no missing values\n",
    "- Dataset has no complete duplicates\n",
    "- We remove `Unnamed: 0`\n",
    "- We need to convert `dept_time` to datetime\n",
    "\n"
   ]
  },
  {
   "cell_type": "markdown",
   "id": "c658911c",
   "metadata": {},
   "source": [
    "# Cleaning"
   ]
  },
  {
   "cell_type": "code",
   "execution_count": 170,
   "id": "b4c7882c",
   "metadata": {},
   "outputs": [],
   "source": [
    "# remove Unnamed: 0 column \n",
    "\n",
    "data.drop(columns = [\"Unnamed: 0\"], inplace = True)  "
   ]
  },
  {
   "cell_type": "code",
   "execution_count": 171,
   "id": "a98a8868",
   "metadata": {},
   "outputs": [],
   "source": [
    "# convert dept_time datatype to datetime\n",
    "\n",
    "data[\"dept_time\"] = pd.to_datetime(data[\"dept_time\"], format= '%Y-%m-%d')  "
   ]
  },
  {
   "cell_type": "markdown",
   "id": "eed63705",
   "metadata": {},
   "source": [
    "###  Discovering `day` column"
   ]
  },
  {
   "cell_type": "code",
   "execution_count": 172,
   "id": "5d597589",
   "metadata": {},
   "outputs": [
    {
     "data": {
      "text/plain": [
       "['Tuesday', 'Friday', 'Thursday', 'Wednesday', 'Saturday', 'Sunday', 'Monday']"
      ]
     },
     "execution_count": 172,
     "metadata": {},
     "output_type": "execute_result"
    }
   ],
   "source": [
    "# show nuique value\n",
    "\n",
    "data[\"day\"].unique().tolist()"
   ]
  },
  {
   "cell_type": "code",
   "execution_count": 173,
   "id": "caf2f2dd",
   "metadata": {},
   "outputs": [
    {
     "data": {
      "text/plain": [
       "Tuesday      535\n",
       "Wednesday    518\n",
       "Thursday     488\n",
       "Friday       368\n",
       "Sunday       267\n",
       "Saturday     210\n",
       "Monday        91\n",
       "Name: day, dtype: int64"
      ]
     },
     "execution_count": 173,
     "metadata": {},
     "output_type": "execute_result"
    }
   ],
   "source": [
    "# output value count of each unique value\n",
    "\n",
    "data[\"day\"].value_counts()"
   ]
  },
  {
   "cell_type": "markdown",
   "id": "39b3b686",
   "metadata": {},
   "source": [
    "###  After Discovering `Day` column \n",
    "\n",
    "- Traveling available over week days \n",
    "- No nan value found\n",
    "- No other word found out column scope\n",
    "\n",
    "#### The `most` common day people travel\n",
    "- Day `Tuesday` \n",
    "- Count of people traveling is `535`\n",
    "\n",
    "#### The `lowest`  common day people travel\n",
    "- Day `Monday` \n",
    "- Count of people traveling is `91`"
   ]
  },
  {
   "cell_type": "markdown",
   "id": "a5771051",
   "metadata": {},
   "source": [
    "### Discovering `airline` column"
   ]
  },
  {
   "cell_type": "code",
   "execution_count": 174,
   "id": "597e59b9",
   "metadata": {},
   "outputs": [
    {
     "data": {
      "text/plain": [
       "array(['UNITED INTL', 'ALASKA', 'DELTA', 'SOUTHWEST', 'AMERICAN',\n",
       "       'JETBLUE', 'AEROMEXICO', 'AIR CANADA', 'UNITED', 'INTERJET',\n",
       "       'TURKISH AIRLINES', 'AIR FRANCE/KLM', 'HAWAIIAN AIR', 'COPA',\n",
       "       'WOW', 'KOREAN AIR', 'EMIRATES', 'AVIANCA', 'AER LINGUS',\n",
       "       'CATHAY PACIFIC', 'BRITISH AIRWAYS', 'PHILIPPINE AIRLINES',\n",
       "       'LUFTHANSA', 'QANTAS', 'FRONTIER', 'CHINA EASTERN', 'EVA AIR',\n",
       "       'VIRGIN ATLANTIC', 'AIR NEW ZEALAND', 'SINGAPORE AIRLINES',\n",
       "       'AIR CHINA', 'CHINA SOUTHERN', 'ANA ALL NIPPON'], dtype=object)"
      ]
     },
     "execution_count": 174,
     "metadata": {},
     "output_type": "execute_result"
    }
   ],
   "source": [
    "# show nuique value\n",
    "\n",
    "data[\"airline\"].unique()"
   ]
  },
  {
   "cell_type": "code",
   "execution_count": 212,
   "id": "ec9585d0",
   "metadata": {},
   "outputs": [
    {
     "data": {
      "text/plain": [
       "UNITED                 526\n",
       "ALASKA                 315\n",
       "SOUTHWEST              184\n",
       "AMERICAN               175\n",
       "DELTA                  170\n",
       "UNITED INTL            155\n",
       "JETBLUE                144\n",
       "AIR CANADA             133\n",
       "AIR FRANCE/KLM         120\n",
       "CATHAY PACIFIC          81\n",
       "LUFTHANSA               64\n",
       "FRONTIER                41\n",
       "EMIRATES                39\n",
       "WOW                     38\n",
       "VIRGIN ATLANTIC         32\n",
       "TURKISH AIRLINES        30\n",
       "QANTAS                  28\n",
       "AIR NEW ZEALAND         21\n",
       "BRITISH AIRWAYS         21\n",
       "INTERJET                18\n",
       "AER LINGUS              18\n",
       "SINGAPORE AIRLINES      16\n",
       "COPA                    16\n",
       "PHILIPPINE AIRLINES     14\n",
       "CHINA EASTERN           13\n",
       "HAWAIIAN AIR            12\n",
       "KOREAN AIR              12\n",
       "AEROMEXICO              11\n",
       "EVA AIR                 10\n",
       "AIR CHINA                8\n",
       "AVIANCA                  6\n",
       "CHINA SOUTHERN           4\n",
       "ANA ALL NIPPON           2\n",
       "Name: airline, dtype: int64"
      ]
     },
     "execution_count": 212,
     "metadata": {},
     "output_type": "execute_result"
    }
   ],
   "source": [
    "# output value count of each unique value\n",
    "\n",
    "data[\"airline\"].value_counts()"
   ]
  },
  {
   "cell_type": "markdown",
   "id": "83bbde1a",
   "metadata": {},
   "source": [
    "###  After Discovering `airline` column \n",
    "\n",
    "- No nan value found\n",
    "- We have `33` unique airline \n",
    "\n",
    "####  The `most` common trips people travel  \n",
    "\n",
    "- airline `UNITED`\n",
    "- Count of trip is `526`\n",
    "\n",
    "#### The `lowest`  common trips people travel  \n",
    "- airline `ANA ALL NIPPON`\n",
    "- Count of trip is `2`"
   ]
  },
  {
   "cell_type": "markdown",
   "id": "0204285c",
   "metadata": {},
   "source": [
    "### Discovering `destination` column"
   ]
  },
  {
   "cell_type": "code",
   "execution_count": 176,
   "id": "8ee92a63",
   "metadata": {},
   "outputs": [
    {
     "data": {
      "text/plain": [
       "array(['KANSAI', 'SAN JOSE DEL CABO', 'LOS ANGELES', 'MIAMI', 'NEWARK',\n",
       "       'LONG BEACH', 'MEXICO CITY', 'TORONTO', 'PORTLAND', 'SAN DIEGO',\n",
       "       'BOSTON', 'SPOKANE', 'GUADALAJARA', 'MINNEAPOLIS-ST. PAUL',\n",
       "       'NEW YORK-JFK', 'ISTANBUL', 'BALTIMORE', 'LAS VEGAS', 'SHANGHAI',\n",
       "       'TOKYO-NARITA', 'PARIS-DE GAULLE', 'HONOLULU', 'DALLAS-FT. WORTH',\n",
       "       'PANAMA CITY', 'PHOENIX', 'REYKJAVIK', 'SAN ANTONIO', 'HONG KONG',\n",
       "       'SEOUL', 'DUBAI', \"CHICAGO-O'HARE\", 'INDIANAPOLIS', 'SAN SALVADOR',\n",
       "       'SALT LAKE CITY', 'BEIJING', 'DUBLIN', 'WASHINGTON DC-DULLES',\n",
       "       'LONDON HEATHROW', 'MANILA', 'RALEIGH-DURHAM', 'VANCOUVER',\n",
       "       'MUNICH', 'NEW ORLEANS', 'FRANKFURT', 'SYDNEY', 'KAHULUI',\n",
       "       'AMSTERDAM', 'ATLANTA', 'SEATTLE', 'DETROIT', 'SANTA BARBARA',\n",
       "       'PHILADELPHIA', 'DENVER', 'BAKERSFIELD', 'AUSTIN', 'CALGARY',\n",
       "       'TAIPEI', 'ONTARIO (CALIF)', 'BURBANK', 'CHARLOTTE', 'AUCKLAND',\n",
       "       'SINGAPORE', 'ORLANDO', 'NASHVILLE', 'WUHAN', 'HOUSTON-BUSH',\n",
       "       'FT. LAUDERDALE', 'SANTA ANA', 'EUGENE', 'KANSAS CITY', 'QINGDAO',\n",
       "       'PUERTO VALLARTA'], dtype=object)"
      ]
     },
     "execution_count": 176,
     "metadata": {},
     "output_type": "execute_result"
    }
   ],
   "source": [
    "# show nuique value\n",
    "\n",
    "data[\"destination\"].unique()"
   ]
  },
  {
   "cell_type": "code",
   "execution_count": 177,
   "id": "9cd917bc",
   "metadata": {},
   "outputs": [
    {
     "data": {
      "text/plain": [
       "LOS ANGELES        185\n",
       "PARIS-DE GAULLE    126\n",
       "DENVER              96\n",
       "HONG KONG           95\n",
       "LONDON HEATHROW     91\n",
       "                  ... \n",
       "WUHAN                4\n",
       "ONTARIO (CALIF)      3\n",
       "NEW ORLEANS          3\n",
       "QINGDAO              3\n",
       "EUGENE               1\n",
       "Name: destination, Length: 72, dtype: int64"
      ]
     },
     "execution_count": 177,
     "metadata": {},
     "output_type": "execute_result"
    }
   ],
   "source": [
    "# output value count of each unique value\n",
    "\n",
    "data[\"destination\"].value_counts()"
   ]
  },
  {
   "cell_type": "markdown",
   "id": "9d432e19",
   "metadata": {},
   "source": [
    "###  After Discovering `destination` column \n",
    "\n",
    "- No nan value found\n",
    "- We have `72` unique airline\n",
    "\n",
    "####  The `most` common trips people traveling To\n",
    "\n",
    "- airline `LOS ANGELES`\n",
    "- Count of trip is `185`\n",
    "\n",
    "#### The `lowest`  common trips people traveling To  \n",
    "- airline `EUGENE`\n",
    "- Count of trip is `2`"
   ]
  },
  {
   "cell_type": "code",
   "execution_count": 178,
   "id": "6ae35f00",
   "metadata": {},
   "outputs": [],
   "source": [
    "# Ensure that the airline and destination airport not same\n",
    "\n",
    "assert data[data[\"airline\"] == data[\"destination\"]].shape[0] == 0  # if yes not return any else return AssertionError"
   ]
  },
  {
   "cell_type": "markdown",
   "id": "3f91ad5f",
   "metadata": {},
   "source": [
    "### Discovering `dest_region` column"
   ]
  },
  {
   "cell_type": "code",
   "execution_count": 179,
   "id": "529d3aac",
   "metadata": {},
   "outputs": [
    {
     "data": {
      "text/plain": [
       "array(['Asia', 'Canada/Mexico', 'West US', 'East US', 'Midwest US',\n",
       "       'EAST US', 'Middle East', 'Europe', 'eur', 'Central/South America',\n",
       "       'Australia/New Zealand', 'middle east'], dtype=object)"
      ]
     },
     "execution_count": 179,
     "metadata": {},
     "output_type": "execute_result"
    }
   ],
   "source": [
    "# show nuique value\n",
    "\n",
    "data[\"dest_region\"].unique()"
   ]
  },
  {
   "cell_type": "code",
   "execution_count": 180,
   "id": "f1bb06e1",
   "metadata": {},
   "outputs": [
    {
     "data": {
      "text/plain": [
       "West US                  864\n",
       "East US                  367\n",
       "Europe                   272\n",
       "Midwest US               251\n",
       "Asia                     226\n",
       "Canada/Mexico            198\n",
       "eur                       79\n",
       "EAST US                   69\n",
       "Australia/New Zealand     60\n",
       "Middle East               48\n",
       "Central/South America     22\n",
       "middle east               21\n",
       "Name: dest_region, dtype: int64"
      ]
     },
     "execution_count": 180,
     "metadata": {},
     "output_type": "execute_result"
    }
   ],
   "source": [
    "# output value count of each unique value\n",
    "\n",
    "data[\"dest_region\"].value_counts()"
   ]
  },
  {
   "cell_type": "markdown",
   "id": "2991e73f",
   "metadata": {},
   "source": [
    "###  Column has some error\n",
    "\n",
    "\n",
    "- We have same words with different format\n",
    "- We have some words and shortcut of this words \n",
    "- We need to fixed this error\n"
   ]
  },
  {
   "cell_type": "code",
   "execution_count": 181,
   "id": "6c051764",
   "metadata": {},
   "outputs": [],
   "source": [
    "# fixed dest_region column\n",
    "\n",
    "# 1- convert all values to upper case\n",
    "data[\"dest_region\"] = data[\"dest_region\"].str.upper()\n",
    "\n",
    "# 2- replace EUR with EUROPE \n",
    "data.loc[data[\"dest_region\"] == \"EUR\", \"dest_region\"] = \"EUROPE\""
   ]
  },
  {
   "cell_type": "code",
   "execution_count": 182,
   "id": "7fff04bc",
   "metadata": {},
   "outputs": [
    {
     "data": {
      "text/plain": [
       "array(['ASIA', 'CANADA/MEXICO', 'WEST US', 'EAST US', 'MIDWEST US',\n",
       "       'MIDDLE EAST', 'EUROPE', 'CENTRAL/SOUTH AMERICA',\n",
       "       'AUSTRALIA/NEW ZEALAND'], dtype=object)"
      ]
     },
     "execution_count": 182,
     "metadata": {},
     "output_type": "execute_result"
    }
   ],
   "source": [
    "# show nuique value after modifying\n",
    "\n",
    "data[\"dest_region\"].unique()"
   ]
  },
  {
   "cell_type": "code",
   "execution_count": 183,
   "id": "71d91cdf",
   "metadata": {},
   "outputs": [
    {
     "data": {
      "text/plain": [
       "WEST US                  864\n",
       "EAST US                  436\n",
       "EUROPE                   351\n",
       "MIDWEST US               251\n",
       "ASIA                     226\n",
       "CANADA/MEXICO            198\n",
       "MIDDLE EAST               69\n",
       "AUSTRALIA/NEW ZEALAND     60\n",
       "CENTRAL/SOUTH AMERICA     22\n",
       "Name: dest_region, dtype: int64"
      ]
     },
     "execution_count": 183,
     "metadata": {},
     "output_type": "execute_result"
    }
   ],
   "source": [
    "# output value count of each unique value after modifying\n",
    "\n",
    "data[\"dest_region\"].value_counts()"
   ]
  },
  {
   "cell_type": "markdown",
   "id": "69b6593f",
   "metadata": {},
   "source": [
    "###  After Discovering `dest_region` column \n",
    "\n",
    "- No nan value found\n",
    "- We have `9` regions\n",
    "\n",
    "#### The `most` common region\n",
    "\n",
    "- Region name is `WEST US`\n",
    "- Number of trips is `864`\n",
    "\n",
    "#### The `lowest` common region\n",
    "\n",
    "- Region name is `CENTRAL/SOUTH AMERICA`\n",
    "- Number of trips is `22`\n",
    "\n"
   ]
  },
  {
   "cell_type": "markdown",
   "id": "dbddf642",
   "metadata": {},
   "source": [
    "### Discovering `dest_size` column"
   ]
  },
  {
   "cell_type": "code",
   "execution_count": 184,
   "id": "e04478d7",
   "metadata": {},
   "outputs": [
    {
     "data": {
      "text/plain": [
       "array(['Hub', 'Small', '    Hub', 'Medium', 'Large', 'Hub     ',\n",
       "       '    Small', 'Medium     ', '    Medium', 'Small     ',\n",
       "       '    Large', 'Large     '], dtype=object)"
      ]
     },
     "execution_count": 184,
     "metadata": {},
     "output_type": "execute_result"
    }
   ],
   "source": [
    "# show unique values \n",
    "\n",
    "data[\"dest_size\"].unique()"
   ]
  },
  {
   "cell_type": "markdown",
   "id": "b25800aa",
   "metadata": {},
   "source": [
    "###  Column has some error\n",
    "\n",
    "- We have same words with different format and extra space\n",
    "- We need to fixed this error"
   ]
  },
  {
   "cell_type": "code",
   "execution_count": 185,
   "id": "136e9c70",
   "metadata": {},
   "outputs": [],
   "source": [
    "# fixed dest_size column\n",
    "\n",
    "# remove extra space\n",
    "data[\"dest_size\"] = data[\"dest_size\"].str.strip()"
   ]
  },
  {
   "cell_type": "code",
   "execution_count": 186,
   "id": "e9834528",
   "metadata": {},
   "outputs": [
    {
     "data": {
      "text/plain": [
       "array(['Hub', 'Small', 'Medium', 'Large'], dtype=object)"
      ]
     },
     "execution_count": 186,
     "metadata": {},
     "output_type": "execute_result"
    }
   ],
   "source": [
    "# show nuique value after modifying\n",
    "\n",
    "data[\"dest_size\"].unique()"
   ]
  },
  {
   "cell_type": "code",
   "execution_count": 187,
   "id": "89d0b97e",
   "metadata": {},
   "outputs": [
    {
     "data": {
      "text/plain": [
       "Hub       1550\n",
       "Medium     600\n",
       "Small      200\n",
       "Large      127\n",
       "Name: dest_size, dtype: int64"
      ]
     },
     "execution_count": 187,
     "metadata": {},
     "output_type": "execute_result"
    }
   ],
   "source": [
    "# output value count of each unique value \n",
    "\n",
    "data[\"dest_size\"].value_counts()"
   ]
  },
  {
   "cell_type": "markdown",
   "id": "b09be190",
   "metadata": {},
   "source": [
    "###  After Discovering `dest_size` column \n",
    "\n",
    "- No nan value found\n",
    "- We have `4` destance\n",
    "\n",
    "#### The `most` common destance\n",
    "\n",
    "- Destance name `Hub`\n",
    "- Number of trips is `1550`\n",
    "\n",
    "#### The `lowest` common destance\n",
    "\n",
    "- Destance name `Large`\n",
    "- Number of trips is `127`\n"
   ]
  },
  {
   "cell_type": "markdown",
   "id": "ad507d65",
   "metadata": {},
   "source": [
    "### Discovering `boarding_area` column"
   ]
  },
  {
   "cell_type": "code",
   "execution_count": 188,
   "id": "9081e4fb",
   "metadata": {},
   "outputs": [
    {
     "data": {
      "text/plain": [
       "array(['Gates 91-102', 'Gates 50-59', 'Gates 40-48', 'Gates 20-39',\n",
       "       'Gates 1-12', 'Gates 70-90', 'Gates 60-69'], dtype=object)"
      ]
     },
     "execution_count": 188,
     "metadata": {},
     "output_type": "execute_result"
    }
   ],
   "source": [
    "data[\"boarding_area\"].unique()"
   ]
  },
  {
   "cell_type": "code",
   "execution_count": 189,
   "id": "1a0bfbb7",
   "metadata": {},
   "outputs": [
    {
     "data": {
      "text/plain": [
       "Gates 1-12      609\n",
       "Gates 91-102    474\n",
       "Gates 50-59     467\n",
       "Gates 70-90     383\n",
       "Gates 20-39     225\n",
       "Gates 40-48     176\n",
       "Gates 60-69     143\n",
       "Name: boarding_area, dtype: int64"
      ]
     },
     "execution_count": 189,
     "metadata": {},
     "output_type": "execute_result"
    }
   ],
   "source": [
    "data[\"boarding_area\"].value_counts()"
   ]
  },
  {
   "cell_type": "markdown",
   "id": "53bd16e5",
   "metadata": {},
   "source": [
    "###  After Discovering `boarding_area` column \n",
    "\n",
    "- No nan value found\n",
    "- We have `6` Gates\n",
    "- Column no need any modification\n"
   ]
  },
  {
   "cell_type": "markdown",
   "id": "c7d7e26f",
   "metadata": {},
   "source": [
    "### Discovering `wait_min` column"
   ]
  },
  {
   "cell_type": "code",
   "execution_count": 190,
   "id": "bc12b35c",
   "metadata": {},
   "outputs": [
    {
     "data": {
      "text/plain": [
       "count    2477.000000\n",
       "mean      166.084376\n",
       "std       107.643625\n",
       "min        15.000000\n",
       "25%       105.000000\n",
       "50%       145.000000\n",
       "75%       185.000000\n",
       "max      1365.000000\n",
       "Name: wait_min, dtype: float64"
      ]
     },
     "execution_count": 190,
     "metadata": {},
     "output_type": "execute_result"
    }
   ],
   "source": [
    "data[\"wait_min\"].describe()"
   ]
  },
  {
   "cell_type": "markdown",
   "id": "d3cfbdb9",
   "metadata": {},
   "source": [
    "### Column has some error\n",
    "- Column has outliers\n",
    "- We need to fixed this error"
   ]
  },
  {
   "cell_type": "code",
   "execution_count": 213,
   "id": "fe24fd33",
   "metadata": {},
   "outputs": [],
   "source": [
    "# Calculating outliers\n",
    "\n",
    "Q1,Q2,Q3 = 105.000000, 145.000000, 185.000000\n",
    "IQR = Q3 - Q1\n",
    "upper = Q3 + (1.5 * IQR)\n",
    "lower = Q1 - (1.5 * IQR)\n",
    "\n",
    "# replace outliers values with nan\n",
    "data.loc[(data[\"wait_min\"] > upper) | (data[\"wait_min\"] < lower), \"wait_min\"] = np.nan"
   ]
  },
  {
   "cell_type": "code",
   "execution_count": 214,
   "id": "83572fc8",
   "metadata": {},
   "outputs": [
    {
     "data": {
      "text/plain": [
       "155"
      ]
     },
     "execution_count": 214,
     "metadata": {},
     "output_type": "execute_result"
    }
   ],
   "source": [
    "# see how meny row repleced with nan value\n",
    "\n",
    "data[\"wait_min\"].isna().sum()"
   ]
  },
  {
   "cell_type": "code",
   "execution_count": 249,
   "id": "6d14f629",
   "metadata": {},
   "outputs": [],
   "source": [
    "# fill nan value with mean of wait_min of each dset_region\n",
    "    \n",
    "# get mean of each group in dest_region column\n",
    "mean_value = data.groupby([\"dest_region\"])[\"wait_min\"].mean()\n",
    "\n",
    "# set dest_region as index   \n",
    "data = data.set_index([\"dest_region\"])\n",
    "\n",
    "# fill nan value of each group with mean of wait_min column of this group\n",
    "data['wait_min'] = data['wait_min'].fillna(mean_value)\n",
    "\n",
    "# convert wait_min to column again\n",
    "data = data.reset_index()"
   ]
  },
  {
   "cell_type": "code",
   "execution_count": 256,
   "id": "b216d0a5",
   "metadata": {},
   "outputs": [],
   "source": [
    "# convetr wait_min to integer\n",
    "\n",
    "data[\"wait_min\"] = data[\"wait_min\"].astype(\"int\")"
   ]
  },
  {
   "cell_type": "markdown",
   "id": "52da14a8",
   "metadata": {},
   "source": [
    "### Discovering `cleanliness` column"
   ]
  },
  {
   "cell_type": "code",
   "execution_count": 195,
   "id": "2377e2f0",
   "metadata": {},
   "outputs": [
    {
     "data": {
      "text/plain": [
       "array(['Clean', 'Average', 'Somewhat clean', 'Somewhat dirty', 'Dirty'],\n",
       "      dtype=object)"
      ]
     },
     "execution_count": 195,
     "metadata": {},
     "output_type": "execute_result"
    }
   ],
   "source": [
    "# show unique values\n",
    "\n",
    "data[\"cleanliness\"].unique()"
   ]
  },
  {
   "cell_type": "code",
   "execution_count": 196,
   "id": "ffa53bfc",
   "metadata": {},
   "outputs": [
    {
     "data": {
      "text/plain": [
       "Somewhat clean    1175\n",
       "Clean              885\n",
       "Average            389\n",
       "Somewhat dirty      26\n",
       "Dirty                2\n",
       "Name: cleanliness, dtype: int64"
      ]
     },
     "execution_count": 196,
     "metadata": {},
     "output_type": "execute_result"
    }
   ],
   "source": [
    "# output value counts\n",
    "\n",
    "data[\"cleanliness\"].value_counts()"
   ]
  },
  {
   "cell_type": "markdown",
   "id": "2f7050d0",
   "metadata": {},
   "source": [
    "### column need some modification\n",
    "\n",
    "- Somewhat clean, Somewhat dirty equal to Average \n",
    "- We need to replace this two word to Average\n"
   ]
  },
  {
   "cell_type": "code",
   "execution_count": 197,
   "id": "ac9eb5dc",
   "metadata": {},
   "outputs": [],
   "source": [
    "# fixed cleanliness column\n",
    "\n",
    "data.loc[(data[\"cleanliness\"] == \"Somewhat clean\") | (data[\"cleanliness\"] == \"Somewhat dirty\"), \"cleanliness\"] = \"Average\""
   ]
  },
  {
   "cell_type": "code",
   "execution_count": 198,
   "id": "ee391fd7",
   "metadata": {},
   "outputs": [
    {
     "data": {
      "text/plain": [
       "Average    1590\n",
       "Clean       885\n",
       "Dirty         2\n",
       "Name: cleanliness, dtype: int64"
      ]
     },
     "execution_count": 198,
     "metadata": {},
     "output_type": "execute_result"
    }
   ],
   "source": [
    "# show unique values after modifying\n",
    "\n",
    "data[\"cleanliness\"].value_counts()"
   ]
  },
  {
   "cell_type": "markdown",
   "id": "99767dce",
   "metadata": {},
   "source": [
    "### After Discovering `cleanliness` column\n",
    "\n",
    "- most people see trip not pure clean, dirty  (Average)\n"
   ]
  },
  {
   "cell_type": "markdown",
   "id": "a9fcb323",
   "metadata": {},
   "source": [
    "### Discovering `safety` column"
   ]
  },
  {
   "cell_type": "code",
   "execution_count": 194,
   "id": "befc9f58",
   "metadata": {},
   "outputs": [
    {
     "data": {
      "text/plain": [
       "array(['Neutral', 'Very safe', 'Somewhat safe', 'Very unsafe',\n",
       "       'Somewhat unsafe'], dtype=object)"
      ]
     },
     "execution_count": 194,
     "metadata": {},
     "output_type": "execute_result"
    }
   ],
   "source": [
    "data[\"safety\"].unique()"
   ]
  },
  {
   "cell_type": "code",
   "execution_count": 200,
   "id": "6ff5a57b",
   "metadata": {},
   "outputs": [
    {
     "data": {
      "text/plain": [
       "Very safe          1296\n",
       "Somewhat safe       864\n",
       "Neutral             303\n",
       "Very unsafe           8\n",
       "Somewhat unsafe       6\n",
       "Name: safety, dtype: int64"
      ]
     },
     "execution_count": 200,
     "metadata": {},
     "output_type": "execute_result"
    }
   ],
   "source": [
    "data[\"safety\"].value_counts()"
   ]
  },
  {
   "cell_type": "markdown",
   "id": "534ce819",
   "metadata": {},
   "source": [
    "###  After Discovering `safety` column \n",
    "\n",
    "- Most people see trip `Very safe` \n"
   ]
  },
  {
   "cell_type": "markdown",
   "id": "3851fbe3",
   "metadata": {},
   "source": [
    "### Discovering `satisfaction` column"
   ]
  },
  {
   "cell_type": "code",
   "execution_count": 202,
   "id": "b51c48e3",
   "metadata": {},
   "outputs": [
    {
     "data": {
      "text/plain": [
       "array(['Very satisfied', 'Neutral', 'Somewhat satsified',\n",
       "       'Somewhat unsatisfied', 'Very unsatisfied'], dtype=object)"
      ]
     },
     "execution_count": 202,
     "metadata": {},
     "output_type": "execute_result"
    }
   ],
   "source": [
    "data[\"satisfaction\"].unique()"
   ]
  },
  {
   "cell_type": "code",
   "execution_count": 204,
   "id": "06cd6614",
   "metadata": {},
   "outputs": [
    {
     "data": {
      "text/plain": [
       "Somewhat satsified      1349\n",
       "Very satisfied           596\n",
       "Neutral                  486\n",
       "Somewhat unsatisfied      42\n",
       "Very unsatisfied           4\n",
       "Name: satisfaction, dtype: int64"
      ]
     },
     "execution_count": 204,
     "metadata": {},
     "output_type": "execute_result"
    }
   ],
   "source": [
    "data[\"satisfaction\"].value_counts()"
   ]
  },
  {
   "cell_type": "markdown",
   "id": "52f19f50",
   "metadata": {},
   "source": [
    "###  After Discovering `satisfaction` column \n",
    "\n",
    "- Most people see trip `Somewhat satsified` \n"
   ]
  }
 ],
 "metadata": {
  "kernelspec": {
   "display_name": "Python 3 (ipykernel)",
   "language": "python",
   "name": "python3"
  },
  "language_info": {
   "codemirror_mode": {
    "name": "ipython",
    "version": 3
   },
   "file_extension": ".py",
   "mimetype": "text/x-python",
   "name": "python",
   "nbconvert_exporter": "python",
   "pygments_lexer": "ipython3",
   "version": "3.10.9"
  }
 },
 "nbformat": 4,
 "nbformat_minor": 5
}
